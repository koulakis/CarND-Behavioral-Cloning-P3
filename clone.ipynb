{
 "cells": [
  {
   "cell_type": "markdown",
   "metadata": {},
   "source": [
    "# Clone my driving behavior"
   ]
  },
  {
   "cell_type": "code",
   "execution_count": 55,
   "metadata": {},
   "outputs": [],
   "source": [
    "import pandas as pd\n",
    "import numpy as np\n",
    "import matplotlib.pyplot as plt\n",
    "from keras.models import Sequential\n",
    "from keras.layers import Flatten, Dense, Conv2D, MaxPooling2D, Lambda, Dropout\n",
    "from livelossplot import PlotLossesKeras"
   ]
  },
  {
   "cell_type": "code",
   "execution_count": 30,
   "metadata": {},
   "outputs": [],
   "source": [
    "user = !whoami\n",
    "user = user[0]"
   ]
  },
  {
   "cell_type": "code",
   "execution_count": 37,
   "metadata": {},
   "outputs": [],
   "source": [
    "IMAGE_SHAPE = (160, 320, 3)\n",
    "PROJECT_DIR = '/home/ubuntu/cloning' if user == 'ubuntu' else '/home/mariosk/Desktop/autonomous_driving/CarND-Behavioral-Cloning-P3'"
   ]
  },
  {
   "cell_type": "markdown",
   "metadata": {},
   "source": [
    "## Load images and measurements"
   ]
  },
  {
   "cell_type": "code",
   "execution_count": 38,
   "metadata": {},
   "outputs": [],
   "source": [
    "driving_log = (\n",
    "    pd.read_csv(\n",
    "        './my-videos/first_drives/driving_log.csv', \n",
    "        header=None,\n",
    "        names=[\n",
    "            'center_image', 'left_image', 'right_image', \n",
    "            'steering_angle', 'throttle', 'break', 'speed'])\n",
    "    .assign(center_image=lambda df: PROJECT_DIR + \"/my-videos/first_drives/\" + df[\"center_image\"].str.split(\"/\").str[7:].str.join(\"/\")))"
   ]
  },
  {
   "cell_type": "code",
   "execution_count": 39,
   "metadata": {},
   "outputs": [
    {
     "name": "stdout",
     "output_type": "stream",
     "text": [
      "CPU times: user 2.42 s, sys: 280 ms, total: 2.7 s\n",
      "Wall time: 2.7 s\n"
     ]
    }
   ],
   "source": [
    "%%time\n",
    "raw_images = np.stack(driving_log['center_image'].map(plt.imread), axis=0)\n",
    "flipped_images = np.flip(raw_images, axis=2)\n",
    "\n",
    "images = np.vstack([raw_images, flipped_images]) "
   ]
  },
  {
   "cell_type": "code",
   "execution_count": 40,
   "metadata": {},
   "outputs": [],
   "source": [
    "raw_measurements = driving_log['steering_angle']\n",
    "measurements_flipped = - raw_measurements\n",
    "\n",
    "measurements = np.hstack([raw_measurements, measurements_flipped])"
   ]
  },
  {
   "cell_type": "markdown",
   "metadata": {},
   "source": [
    "## Define model"
   ]
  },
  {
   "cell_type": "code",
   "execution_count": 65,
   "metadata": {},
   "outputs": [],
   "source": [
    "model = Sequential([\n",
    "    Lambda(lambda x: x / 255.0 - 0.5, input_shape=IMAGE_SHAPE),\n",
    "    Conv2D(20, (5, 5), activation='relu'),\n",
    "    Conv2D(20, (5, 5), activation='relu'),\n",
    "    MaxPooling2D(),\n",
    "    Conv2D(50, (5, 5), activation='relu'),\n",
    "    Conv2D(50, (5, 5), activation='relu'),\n",
    "    MaxPooling2D(),\n",
    "    Flatten(),\n",
    "    Dense(120),\n",
    "    Dense(84),\n",
    "    Dense(1)\n",
    "])\n",
    "\n",
    "model.compile(loss='mse', optimizer='adam')"
   ]
  },
  {
   "cell_type": "code",
   "execution_count": 66,
   "metadata": {},
   "outputs": [
    {
     "name": "stdout",
     "output_type": "stream",
     "text": [
      "_________________________________________________________________\n",
      "Layer (type)                 Output Shape              Param #   \n",
      "=================================================================\n",
      "lambda_5 (Lambda)            (None, 160, 320, 3)       0         \n",
      "_________________________________________________________________\n",
      "conv2d_14 (Conv2D)           (None, 156, 316, 20)      1520      \n",
      "_________________________________________________________________\n",
      "conv2d_15 (Conv2D)           (None, 152, 312, 20)      10020     \n",
      "_________________________________________________________________\n",
      "max_pooling2d_8 (MaxPooling2 (None, 76, 156, 20)       0         \n",
      "_________________________________________________________________\n",
      "conv2d_16 (Conv2D)           (None, 72, 152, 50)       25050     \n",
      "_________________________________________________________________\n",
      "conv2d_17 (Conv2D)           (None, 68, 148, 50)       62550     \n",
      "_________________________________________________________________\n",
      "max_pooling2d_9 (MaxPooling2 (None, 34, 74, 50)        0         \n",
      "_________________________________________________________________\n",
      "flatten_5 (Flatten)          (None, 125800)            0         \n",
      "_________________________________________________________________\n",
      "dense_11 (Dense)             (None, 120)               15096120  \n",
      "_________________________________________________________________\n",
      "dense_12 (Dense)             (None, 84)                10164     \n",
      "_________________________________________________________________\n",
      "dense_13 (Dense)             (None, 1)                 85        \n",
      "=================================================================\n",
      "Total params: 15,205,509\n",
      "Trainable params: 15,205,509\n",
      "Non-trainable params: 0\n",
      "_________________________________________________________________\n"
     ]
    }
   ],
   "source": [
    "model.summary()"
   ]
  },
  {
   "cell_type": "markdown",
   "metadata": {},
   "source": [
    "## Train model"
   ]
  },
  {
   "cell_type": "code",
   "execution_count": 67,
   "metadata": {},
   "outputs": [
    {
     "name": "stdout",
     "output_type": "stream",
     "text": [
      "Train on 2574 samples, validate on 644 samples\n",
      "Epoch 1/1\n",
      "2574/2574 [==============================] - 23s 9ms/step - loss: 10.7533 - val_loss: 0.0197\n"
     ]
    },
    {
     "data": {
      "text/plain": [
       "<keras.callbacks.History at 0x7f9295592160>"
      ]
     },
     "execution_count": 67,
     "metadata": {},
     "output_type": "execute_result"
    }
   ],
   "source": [
    "model.fit(\n",
    "    images, \n",
    "    measurements, \n",
    "    epochs=1,\n",
    "    validation_split=0.2, \n",
    "    shuffle=True)"
   ]
  },
  {
   "cell_type": "code",
   "execution_count": null,
   "metadata": {},
   "outputs": [
    {
     "data": {
      "image/png": "[encoded data removed]",
      "text/plain": [
       "<Figure size 864x576 with 1 Axes>"
      ]
     },
     "metadata": {},
     "output_type": "display_data"
    },
    {
     "name": "stdout",
     "output_type": "stream",
     "text": [
      "mse (cost function):\n",
      "training   (min:    0.010, max:    0.011, cur:    0.010)\n",
      "validation (min:    0.014, max:    0.016, cur:    0.014)\n",
      "Epoch 9/20\n",
      "1728/2574 [===================>..........] - ETA: 6s - loss: 0.0106"
     ]
    }
   ],
   "source": [
    "model.fit(\n",
    "    images, \n",
    "    measurements, \n",
    "    epochs=20,\n",
    "    callbacks=[PlotLossesKeras()],\n",
    "    validation_split=0.2, \n",
    "    shuffle=True)"
   ]
  },
  {
   "cell_type": "code",
   "execution_count": null,
   "metadata": {},
   "outputs": [],
   "source": [
    "model.save('./models/model_lenet_variant_dropout.h5a')"
   ]
  }
 ],
 "metadata": {
  "kernelspec": {
   "display_name": "Python 3",
   "language": "python",
   "name": "python3"
  },
  "language_info": {
   "codemirror_mode": {
    "name": "ipython",
    "version": 3
   },
   "file_extension": ".py",
   "mimetype": "text/x-python",
   "name": "python",
   "nbconvert_exporter": "python",
   "pygments_lexer": "ipython3",
   "version": "3.6.5"
  }
 },
 "nbformat": 4,
 "nbformat_minor": 2
}
